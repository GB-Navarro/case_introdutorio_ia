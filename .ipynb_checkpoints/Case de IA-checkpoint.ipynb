{
 "cells": [
  {
   "cell_type": "markdown",
   "metadata": {},
   "source": [
    "## Case de IA - Customer churn\n",
    "\n",
    "<p align='center'>\n",
    "    <img src='https://www.questionpro.com/blog/wp-content/uploads/2018/03/churn.png'>\n",
    "</p>\n",
    "\n",
    "Neste case básico de IA, vamos analisar um dataset de churn de clientes de uma empresa de telecomunicações. O objetivo é criar um modelo de Machine Learning que seja capaz de prever se um cliente irá ou não cancelar seu plano.\n",
    "\n",
    "\n",
    "O objetivo é que você tenha seu primeiro contato com um problema de Machine Learning, que você consiga entender como é mais ou menos o fluxo de trabalho e, principalmente, vá aprendendo os principais conceitos conforme for realizando.\n",
    "\n",
    "\n",
    "Ao longo do case passaremos por tópicos como:\n",
    "\n",
    "1. Visualização, análise e tratamento de dados\n",
    "2. Split dos dados em treino e teste\n",
    "3. Padronização dos dados\n",
    "4. Criação de um modelo de Machine Learning\n",
    "5. Avaliação do modelo\n",
    "6. Otimização dos hiperparâmetros do modelo\n",
    "\n",
    "\n",
    "## Referências gerais:\n",
    "- https://www.datacamp.com/tutorial/introduction-machine-learning-python\n",
    "- https://app.datacamp.com/learn/courses/machine-learning-with-scikit-learn (Capítulos 1 e 3)\n",
    "- Livro: Introduction to Machine Learning with Python (Capítulo 2) - https://drive.google.com/drive/u/1/folders/10VdWCaR7qZ40K9rC5gWviKWMkMPzK8FB\n",
    "\n",
    "Mais referências ao longo do case"
   ]
  },
  {
   "cell_type": "markdown",
   "metadata": {},
   "source": [
    "### 0 - Antes de tudo...\n",
    "\n",
    "Existem muitas formas de se resolver um problema de Machine Learning, no entanto, o **workflow** a ser seguido geralmente segue essa estrutura:\n",
    "<p align='center'>\n",
    "    <img src='https://editor.analyticsvidhya.com/uploads/80329Roadmap.PNG'>\n",
    "</p>"
   ]
  },
  {
   "cell_type": "markdown",
   "metadata": {},
   "source": [
    "Assim, comece importando as bibliotecas básicas, e carregando o dataset."
   ]
  },
  {
   "cell_type": "markdown",
   "metadata": {},
   "source": [
    "##### *Importando as bibliotecas*"
   ]
  },
  {
   "cell_type": "code",
   "execution_count": 1,
   "metadata": {},
   "outputs": [],
   "source": [
    "# Importa as bibliotecas que serão utilizadas na resolução dos exercícios abaixo.\n",
    "import pandas as pd\n",
    "import numpy as np"
   ]
  },
  {
   "cell_type": "markdown",
   "metadata": {},
   "source": [
    "##### *Lendo o arquivo .csv*"
   ]
  },
  {
   "cell_type": "code",
   "execution_count": 5,
   "metadata": {},
   "outputs": [],
   "source": [
    "# Lê o arquivo .csv que será utilizado no treinamento do modelo e o transforma em um DataFrame do pandas.\n",
    "df = pd.read_csv(\"Churn_train.csv\")"
   ]
  },
  {
   "attachments": {},
   "cell_type": "markdown",
   "metadata": {},
   "source": [
    "### 1 - Data Prep\n",
    "\n",
    "Provavelmente, a etapa mais importante do processo. É a etapa de entendimento do problema a ser resolvido, entendimento dos dados que você possui e, principalmente, tratamento desses dados para poder extrair o máximo de informação possível.\n",
    "\n",
    "Veja aqui algumas referências para um bom Data Prep:\n",
    "- https://www.analyticsvidhya.com/blog/2021/08/how-to-perform-exploratory-data-analysis-a-guide-for-beginners/\n",
    "- https://towardsdatascience.com/an-extensive-guide-to-exploratory-data-analysis-ddd99a03199e"
   ]
  },
  {
   "cell_type": "markdown",
   "metadata": {},
   "source": [
    "O objetivo aqui é verficar se os dados estão certinhos para serem utilizados em modelos. Assim,\n",
    "\n",
    "- Verifique o tipo das variáveis (existem números como strings, por exemplo?)  \n",
    "- Verifique se há valores nulos\n",
    "- Verifique se há valores duplicados\n",
    "- Verifique a presença de outliers (aqui pode ser bem útil plotar gráficos de distribuição das variáveis)\n",
    "- Qual coluna é a variável *target* (aquilo que queremos prever)?\n",
    "- Quais features são necessárias e quais não são?"
   ]
  },
  {
   "cell_type": "markdown",
   "metadata": {},
   "source": [
    "##### *Exibindo o DataFrame original*"
   ]
  },
  {
   "cell_type": "code",
   "execution_count": 28,
   "metadata": {},
   "outputs": [
    {
     "data": {
      "text/html": [
       "<div>\n",
       "<style scoped>\n",
       "    .dataframe tbody tr th:only-of-type {\n",
       "        vertical-align: middle;\n",
       "    }\n",
       "\n",
       "    .dataframe tbody tr th {\n",
       "        vertical-align: top;\n",
       "    }\n",
       "\n",
       "    .dataframe thead th {\n",
       "        text-align: right;\n",
       "    }\n",
       "</style>\n",
       "<table border=\"1\" class=\"dataframe\">\n",
       "  <thead>\n",
       "    <tr style=\"text-align: right;\">\n",
       "      <th></th>\n",
       "      <th>CustomerID</th>\n",
       "      <th>Age</th>\n",
       "      <th>Gender</th>\n",
       "      <th>Tenure</th>\n",
       "      <th>Usage Frequency</th>\n",
       "      <th>Support Calls</th>\n",
       "      <th>Payment Delay</th>\n",
       "      <th>Subscription Type</th>\n",
       "      <th>Contract Length</th>\n",
       "      <th>Total Spend</th>\n",
       "      <th>Last Interaction</th>\n",
       "      <th>Churn</th>\n",
       "    </tr>\n",
       "  </thead>\n",
       "  <tbody>\n",
       "    <tr>\n",
       "      <th>0</th>\n",
       "      <td>2.0</td>\n",
       "      <td>30.0</td>\n",
       "      <td>Female</td>\n",
       "      <td>39.0</td>\n",
       "      <td>14.0</td>\n",
       "      <td>5.0</td>\n",
       "      <td>18.0</td>\n",
       "      <td>Standard</td>\n",
       "      <td>Annual</td>\n",
       "      <td>932.00</td>\n",
       "      <td>17.0</td>\n",
       "      <td>1.0</td>\n",
       "    </tr>\n",
       "    <tr>\n",
       "      <th>1</th>\n",
       "      <td>3.0</td>\n",
       "      <td>65.0</td>\n",
       "      <td>Female</td>\n",
       "      <td>49.0</td>\n",
       "      <td>1.0</td>\n",
       "      <td>10.0</td>\n",
       "      <td>8.0</td>\n",
       "      <td>Basic</td>\n",
       "      <td>Monthly</td>\n",
       "      <td>557.00</td>\n",
       "      <td>6.0</td>\n",
       "      <td>1.0</td>\n",
       "    </tr>\n",
       "    <tr>\n",
       "      <th>2</th>\n",
       "      <td>4.0</td>\n",
       "      <td>55.0</td>\n",
       "      <td>Female</td>\n",
       "      <td>14.0</td>\n",
       "      <td>4.0</td>\n",
       "      <td>6.0</td>\n",
       "      <td>18.0</td>\n",
       "      <td>Basic</td>\n",
       "      <td>Quarterly</td>\n",
       "      <td>185.00</td>\n",
       "      <td>3.0</td>\n",
       "      <td>1.0</td>\n",
       "    </tr>\n",
       "    <tr>\n",
       "      <th>3</th>\n",
       "      <td>5.0</td>\n",
       "      <td>58.0</td>\n",
       "      <td>Male</td>\n",
       "      <td>38.0</td>\n",
       "      <td>21.0</td>\n",
       "      <td>7.0</td>\n",
       "      <td>7.0</td>\n",
       "      <td>Standard</td>\n",
       "      <td>Monthly</td>\n",
       "      <td>396.00</td>\n",
       "      <td>29.0</td>\n",
       "      <td>1.0</td>\n",
       "    </tr>\n",
       "    <tr>\n",
       "      <th>4</th>\n",
       "      <td>6.0</td>\n",
       "      <td>23.0</td>\n",
       "      <td>Male</td>\n",
       "      <td>32.0</td>\n",
       "      <td>20.0</td>\n",
       "      <td>5.0</td>\n",
       "      <td>8.0</td>\n",
       "      <td>Basic</td>\n",
       "      <td>Monthly</td>\n",
       "      <td>617.00</td>\n",
       "      <td>20.0</td>\n",
       "      <td>1.0</td>\n",
       "    </tr>\n",
       "    <tr>\n",
       "      <th>...</th>\n",
       "      <td>...</td>\n",
       "      <td>...</td>\n",
       "      <td>...</td>\n",
       "      <td>...</td>\n",
       "      <td>...</td>\n",
       "      <td>...</td>\n",
       "      <td>...</td>\n",
       "      <td>...</td>\n",
       "      <td>...</td>\n",
       "      <td>...</td>\n",
       "      <td>...</td>\n",
       "      <td>...</td>\n",
       "    </tr>\n",
       "    <tr>\n",
       "      <th>440828</th>\n",
       "      <td>449995.0</td>\n",
       "      <td>42.0</td>\n",
       "      <td>Male</td>\n",
       "      <td>54.0</td>\n",
       "      <td>15.0</td>\n",
       "      <td>1.0</td>\n",
       "      <td>3.0</td>\n",
       "      <td>Premium</td>\n",
       "      <td>Annual</td>\n",
       "      <td>716.38</td>\n",
       "      <td>8.0</td>\n",
       "      <td>0.0</td>\n",
       "    </tr>\n",
       "    <tr>\n",
       "      <th>440829</th>\n",
       "      <td>449996.0</td>\n",
       "      <td>25.0</td>\n",
       "      <td>Female</td>\n",
       "      <td>8.0</td>\n",
       "      <td>13.0</td>\n",
       "      <td>1.0</td>\n",
       "      <td>20.0</td>\n",
       "      <td>Premium</td>\n",
       "      <td>Annual</td>\n",
       "      <td>745.38</td>\n",
       "      <td>2.0</td>\n",
       "      <td>0.0</td>\n",
       "    </tr>\n",
       "    <tr>\n",
       "      <th>440830</th>\n",
       "      <td>449997.0</td>\n",
       "      <td>26.0</td>\n",
       "      <td>Male</td>\n",
       "      <td>35.0</td>\n",
       "      <td>27.0</td>\n",
       "      <td>1.0</td>\n",
       "      <td>5.0</td>\n",
       "      <td>Standard</td>\n",
       "      <td>Quarterly</td>\n",
       "      <td>977.31</td>\n",
       "      <td>9.0</td>\n",
       "      <td>0.0</td>\n",
       "    </tr>\n",
       "    <tr>\n",
       "      <th>440831</th>\n",
       "      <td>449998.0</td>\n",
       "      <td>28.0</td>\n",
       "      <td>Male</td>\n",
       "      <td>55.0</td>\n",
       "      <td>14.0</td>\n",
       "      <td>2.0</td>\n",
       "      <td>0.0</td>\n",
       "      <td>Standard</td>\n",
       "      <td>Quarterly</td>\n",
       "      <td>602.55</td>\n",
       "      <td>2.0</td>\n",
       "      <td>0.0</td>\n",
       "    </tr>\n",
       "    <tr>\n",
       "      <th>440832</th>\n",
       "      <td>449999.0</td>\n",
       "      <td>31.0</td>\n",
       "      <td>Male</td>\n",
       "      <td>48.0</td>\n",
       "      <td>20.0</td>\n",
       "      <td>1.0</td>\n",
       "      <td>14.0</td>\n",
       "      <td>Premium</td>\n",
       "      <td>Quarterly</td>\n",
       "      <td>567.77</td>\n",
       "      <td>21.0</td>\n",
       "      <td>0.0</td>\n",
       "    </tr>\n",
       "  </tbody>\n",
       "</table>\n",
       "<p>440833 rows × 12 columns</p>\n",
       "</div>"
      ],
      "text/plain": [
       "        CustomerID   Age  Gender  Tenure  Usage Frequency  Support Calls  \\\n",
       "0              2.0  30.0  Female    39.0             14.0            5.0   \n",
       "1              3.0  65.0  Female    49.0              1.0           10.0   \n",
       "2              4.0  55.0  Female    14.0              4.0            6.0   \n",
       "3              5.0  58.0    Male    38.0             21.0            7.0   \n",
       "4              6.0  23.0    Male    32.0             20.0            5.0   \n",
       "...            ...   ...     ...     ...              ...            ...   \n",
       "440828    449995.0  42.0    Male    54.0             15.0            1.0   \n",
       "440829    449996.0  25.0  Female     8.0             13.0            1.0   \n",
       "440830    449997.0  26.0    Male    35.0             27.0            1.0   \n",
       "440831    449998.0  28.0    Male    55.0             14.0            2.0   \n",
       "440832    449999.0  31.0    Male    48.0             20.0            1.0   \n",
       "\n",
       "        Payment Delay Subscription Type Contract Length  Total Spend  \\\n",
       "0                18.0          Standard          Annual       932.00   \n",
       "1                 8.0             Basic         Monthly       557.00   \n",
       "2                18.0             Basic       Quarterly       185.00   \n",
       "3                 7.0          Standard         Monthly       396.00   \n",
       "4                 8.0             Basic         Monthly       617.00   \n",
       "...               ...               ...             ...          ...   \n",
       "440828            3.0           Premium          Annual       716.38   \n",
       "440829           20.0           Premium          Annual       745.38   \n",
       "440830            5.0          Standard       Quarterly       977.31   \n",
       "440831            0.0          Standard       Quarterly       602.55   \n",
       "440832           14.0           Premium       Quarterly       567.77   \n",
       "\n",
       "        Last Interaction  Churn  \n",
       "0                   17.0    1.0  \n",
       "1                    6.0    1.0  \n",
       "2                    3.0    1.0  \n",
       "3                   29.0    1.0  \n",
       "4                   20.0    1.0  \n",
       "...                  ...    ...  \n",
       "440828               8.0    0.0  \n",
       "440829               2.0    0.0  \n",
       "440830               9.0    0.0  \n",
       "440831               2.0    0.0  \n",
       "440832              21.0    0.0  \n",
       "\n",
       "[440833 rows x 12 columns]"
      ]
     },
     "execution_count": 28,
     "metadata": {},
     "output_type": "execute_result"
    }
   ],
   "source": [
    "# Exibe o DataFrame original.\n",
    "df"
   ]
  },
  {
   "cell_type": "code",
   "execution_count": 29,
   "metadata": {},
   "outputs": [
    {
     "data": {
      "text/plain": [
       "(440833, 12)"
      ]
     },
     "execution_count": 29,
     "metadata": {},
     "output_type": "execute_result"
    }
   ],
   "source": [
    "# Exibe as dimensões do DataFrame original.\n",
    "df.shape"
   ]
  },
  {
   "cell_type": "markdown",
   "metadata": {},
   "source": [
    "##### *Breve descrição sobre o que cada coluna do DataFrame parece indicar*"
   ]
  },
  {
   "cell_type": "markdown",
   "metadata": {},
   "source": [
    "- **CustomerID (Number):**\n",
    "  \n",
    "    *Coluna responsável por armazenar o identificador único do cliente em questão.*\n",
    "- **Age (Number):**\n",
    "  \n",
    "    *Coluna responsável por armazenar a idade do cliente em questão.*\n",
    "- **Gender (String):**\n",
    "  \n",
    "    *Coluna responsável por armazenar o gênero do cliente em questão.*\n",
    "- **Tenure: (Number)**\n",
    "  \n",
    "    *Essa coluna parece armazenar o tempo de relacionamento do cliente em questão com a empresa. Isto é, quanto tempo tal cliente usou os serviços da empresa.*\n",
    "- **Usage Frequency (Number):**\n",
    "    \n",
    "    *Essa coluna parece armazenar uma métrica sobre o quanto o cliente em questão utilizou os serviços da empresa.*\n",
    "- **Support Calls (Number):**\n",
    "  \n",
    "    *Essa coluna parece armazenar o número de vezes que o cliente em questão fez chamadas ao suporte da empresa.*\n",
    "- **Payment Delay (Number):**\n",
    "  \n",
    "    *Essa coluna parece armazenar uma métrica sobre os atrasos de pagamento por parte do cliente em questão.*\n",
    "- **Subscription Type (String):**\n",
    "  \n",
    "    *Coluna responsável por armazenar o tipo de plano contratado pelo cliente em questão.*\n",
    "- **Contract Length (String):**\n",
    "  \n",
    "    *Coluna responsável por armazenar a duração do contrato do cliente em questão.*\n",
    "- **Total Spend (Number):**\n",
    "  \n",
    "    *Essa coluna parece armazenar o quanto o cliente em questão já gastou com os serviços da empresa.*\n",
    "- **Last Interaction (Number):**\n",
    "  \n",
    "    *Essa coluna parece armazenar a quanto tempo ocorreu a última iteração do cliente em questão com os serviços da empresa*\n",
    "- **Churn (Boolean):**\n",
    "    \n",
    "    *O churn, ou churn de clientes, nada mais é do que a taxa de cancelamento do serviço por parte dos clientes. Dessa forma, essa coluna parece armazenar quais clientes cancelaram o serviço e quais clientes ainda possuem o serviço contratado. Aparentemente, se o churn é igual à 1, então o cliente em questão cancelou o serviço, enquanto se o churn é igual à 0, então o cliente em questão ainda utiliza o serviço*."
   ]
  },
  {
   "cell_type": "markdown",
   "metadata": {},
   "source": [
    "##### *Verificando o tipo das variáveis*"
   ]
  },
  {
   "cell_type": "code",
   "execution_count": 30,
   "metadata": {},
   "outputs": [
    {
     "name": "stdout",
     "output_type": "stream",
     "text": [
      "CustomerID           float64\n",
      "Age                  float64\n",
      "Gender                object\n",
      "Tenure               float64\n",
      "Usage Frequency      float64\n",
      "Support Calls        float64\n",
      "Payment Delay        float64\n",
      "Subscription Type     object\n",
      "Contract Length       object\n",
      "Total Spend          float64\n",
      "Last Interaction     float64\n",
      "Churn                float64\n",
      "dtype: object\n"
     ]
    }
   ],
   "source": [
    "# Exibe os tipos de dados de cada uma das colunas.\n",
    "print(df.dtypes) \n",
    "\n",
    "# PS: Em um pd.DataFrame, quando uma coluna é de um tipo \"x\" diferente de \"object\" significa que todos os dados dessa coluna são do tipo \"x\".\n",
    "# Dito isso, observe que, todas as colunas que deveriam ser numéricas, isto é, as colunas \"CustomerID\", \"Age\",\n",
    "# \"Tenure\" (tempo de relacionamento ?), "
   ]
  },
  {
   "cell_type": "markdown",
   "metadata": {},
   "source": [
    "##### *Verificando se há valores nulos*"
   ]
  },
  {
   "cell_type": "code",
   "execution_count": null,
   "metadata": {},
   "outputs": [],
   "source": []
  },
  {
   "cell_type": "markdown",
   "metadata": {},
   "source": [
    "##### *Verificando se há valores duplicados*\n"
   ]
  },
  {
   "cell_type": "code",
   "execution_count": null,
   "metadata": {},
   "outputs": [],
   "source": []
  },
  {
   "cell_type": "markdown",
   "metadata": {},
   "source": [
    "##### *Verificando a presença de outliers* (aqui pode ser bem útil plotar gráficos de distribuição das variáveis)\n"
   ]
  },
  {
   "cell_type": "code",
   "execution_count": null,
   "metadata": {},
   "outputs": [],
   "source": []
  },
  {
   "cell_type": "markdown",
   "metadata": {},
   "source": [
    "##### *Qual coluna é a variável *target* (aquilo que queremos prever)?*\n",
    "\n"
   ]
  },
  {
   "cell_type": "markdown",
   "metadata": {},
   "source": [
    "Queremos prever o churn de clientes. Portanto, a variável target é a coluna churn do DataFrame."
   ]
  },
  {
   "cell_type": "markdown",
   "metadata": {},
   "source": [
    "##### *Quais features são necessárias e quais não são?*"
   ]
  },
  {
   "cell_type": "code",
   "execution_count": null,
   "metadata": {},
   "outputs": [],
   "source": []
  },
  {
   "attachments": {
    "image.png": {
     "image/png": "[encoded data removed]"
    }
   },
   "cell_type": "markdown",
   "metadata": {},
   "source": [
    "### Encoding\n",
    "\n",
    "Muitos algoritmos não só conseguem trabalhar com dados numéricos. Assim, um tratamento necessário é a transformação de variáveis categóricas em numéricas. \n",
    "\n",
    "![image.png](attachment:image.png)\n",
    "\n",
    "São formas de encoding mais comuns:\n",
    "- Dummy encoding\n",
    "- One-hot encoding\n",
    "- Label encoding\n",
    "\n",
    "Dê uma pesquisada nesses métodos e veja qual a forma mais adequada para as variáveis categóricas"
   ]
  },
  {
   "cell_type": "code",
   "execution_count": null,
   "metadata": {},
   "outputs": [],
   "source": []
  },
  {
   "cell_type": "markdown",
   "metadata": {},
   "source": [
    "### Matriz de correlação\n",
    "Uma forma eficiênte de se ter uma ideia da relação entre as variáveis é saber como elas se correlacionam umas com as outras. Plote uma matriz de correlação e veja quais variáveis parecem mais correlacionadas com o target."
   ]
  },
  {
   "cell_type": "code",
   "execution_count": null,
   "metadata": {},
   "outputs": [],
   "source": []
  },
  {
   "cell_type": "markdown",
   "metadata": {},
   "source": [
    "#### Bônus\n",
    "Uma coisa que vocês precisam saber é que, apesar de parecer muito difícil no começo, Machine Learning em python é uma mãe e sempre existe uma forma mais incrivelmente fácil de se fazer qualquer coisa.\n",
    "\n",
    "Depois de fazer toda a sua análise exploratória, teste o *pandas_profiling* e veja o que ele te retorna."
   ]
  },
  {
   "cell_type": "code",
   "execution_count": null,
   "metadata": {},
   "outputs": [],
   "source": []
  },
  {
   "cell_type": "markdown",
   "metadata": {},
   "source": [
    "### Data split\n",
    "Para um algoritmo de Machine Learning funcionar, é necessário que ele primeiro aprenda com uma certa quantidade dos dados disponíveis a identificar padrões. A esse conjunto, chamamos de \"treino\".\n",
    "\n",
    "Após o treino, é necessário verficar como ele lida diante de novos dados. Esse conjunto com a outra parte dos dados, chamamos de \"teste\". Sendo assim, divida seu dataset em treino e teste."
   ]
  },
  {
   "cell_type": "code",
   "execution_count": 16,
   "metadata": {},
   "outputs": [],
   "source": []
  },
  {
   "cell_type": "markdown",
   "metadata": {},
   "source": [
    "### Scaling\n",
    "Último ponto dessa etapa. Veja que as variáveis possuem escalas diferentes. Enquanto algumas variáveis estão na casa das dezenas, outras estão na casa das centenas. Isso pode ser um problema para alguns algoritmos de Machine Learning, que podem acabar dando mais importância para as variáveis com maior escala. Transforme seus dados de modo com que fiquem na mesma escala"
   ]
  },
  {
   "cell_type": "code",
   "execution_count": 17,
   "metadata": {},
   "outputs": [],
   "source": []
  },
  {
   "cell_type": "markdown",
   "metadata": {},
   "source": [
    "### 2 - Criação do modelo\n",
    "\n",
    "Existem dois principais tipos de problemas de ML: regressão e classificação. Enquanto o primeiro se refere à previsão de valores numéricos, o segundo, como o nome já diz, se refere à classificação de valores em categorias.\n",
    "\n",
    "Para classificação, existem alguns algoritmos mais comuns que você pode tentar:\n",
    "Cursos:\n",
    "- [Supervised Learning with scikit-learn - DataCamp](https://app.datacamp.com/learn/courses/machine-learning-with-scikit-learn)\n",
    "- [Linear Classifiers in python - DataCamp](https://app.datacamp.com/learn/courses/linear-classifiers-in-python)\n",
    "\n",
    "Vídeos:\n",
    "- [Vídeo do Dev sobre Random Forest](https://www.youtube.com/watch?v=ho1eI54ykoU&pp=ygUHZmVhIGRldg%3D%3D)\n",
    "- [StatsQuest: LogisticRegression (teoria)](https://www.youtube.com/watch?v=yIYKR4sgzI8)\n",
    "- [StatsQuest: KNN (teoria)](https://www.youtube.com/watch?v=HVXime0nQeI&pp=ugMICgJwdBABGAE%3D)\n",
    "\n",
    "\n",
    "Escolha pelo menos dois modelos. Treine e teste com os dados que você separou anteriormente e gere as previsões"
   ]
  },
  {
   "cell_type": "code",
   "execution_count": null,
   "metadata": {},
   "outputs": [],
   "source": []
  },
  {
   "cell_type": "code",
   "execution_count": null,
   "metadata": {},
   "outputs": [],
   "source": []
  },
  {
   "cell_type": "markdown",
   "metadata": {},
   "source": [
    "### 3 - Avaliação do modelo\n",
    "\n",
    "Uma vez feitas as previsões, é preciso verificar o quão próximas da realidade elas foram. Para problemas de classificação, as métricas mais comuns de se utilizar são: acurácia, precisão e AUC. Você pode ter uma melhor visualização nesse cheat sheet:\n",
    "\n",
    "<p align='center'>\n",
    "    <img src='https://miro.medium.com/v2/resize:fit:828/format:webp/1*wEniP5HewaUSHeIF1_bEiw.png'>"
   ]
  },
  {
   "cell_type": "markdown",
   "metadata": {},
   "source": [
    "Para um entendimento mais profundo sobre cada uma das métricas, seguem também algumas referências:\n",
    "\n",
    "- [StatsQuest: ROC e AUC](https://www.youtube.com/watch?v=4jRBRDbJemM&list=PLblh5JKOoLUICTaGLRoHQDuF_7q2GfuJF&index=7)\n",
    "- [StatsQuest: Confusion Matrix](https://www.youtube.com/watch?v=Kdsp6soqA7o&list=PLblh5JKOoLUICTaGLRoHQDuF_7q2GfuJF&index=3)\n",
    "- [12 Important Model Evaluation Metrics for Machine Learning Everyone Should Know ](https://www.analyticsvidhya.com/blog/2019/08/11-important-model-evaluation-error-metrics/)\n",
    "\n",
    "**Avalie as previsões do seu modelo e veja qual deles se saiu melhor.**"
   ]
  },
  {
   "cell_type": "code",
   "execution_count": null,
   "metadata": {},
   "outputs": [],
   "source": []
  },
  {
   "cell_type": "markdown",
   "metadata": {},
   "source": [
    "### 4 - Otimização do modelo\n",
    "Cada função do scikit-learn na verdade tem vários parâmetros que podem ser ajustados a depender dos seus dados e do seu objetivo e nem sempre os valores padrão são os melhores. O processo de otimização desses hiperparâmetros nada mais é do que iterar sobre as diferentes possibilidades de valores que esses parâmetros podem assumir e ver qual combinação deles gera o melhor resultado.\n",
    "\n",
    "A forma mais comum de realizar essa otimização é através do GridSearch CV, mas a biblioteca Optuna também é uma excelente opção.\n",
    "\n",
    "O capítulo 3 do curso de Supervised Learning oferece um guia de como realizar esse processo - https://app.datacamp.com/learn/courses/supervised-learning-with-scikit-learn\n",
    "\n",
    "**Realize a otimização dos hiperparâmetros**"
   ]
  },
  {
   "cell_type": "markdown",
   "metadata": {},
   "source": [
    "### Hyperparameter tunning"
   ]
  },
  {
   "cell_type": "code",
   "execution_count": 26,
   "metadata": {},
   "outputs": [],
   "source": []
  },
  {
   "cell_type": "code",
   "execution_count": 29,
   "metadata": {},
   "outputs": [],
   "source": []
  },
  {
   "cell_type": "code",
   "execution_count": 30,
   "metadata": {},
   "outputs": [],
   "source": []
  }
 ],
 "metadata": {
  "kernelspec": {
   "display_name": "Python 3 (ipykernel)",
   "language": "python",
   "name": "python3"
  },
  "language_info": {
   "codemirror_mode": {
    "name": "ipython",
    "version": 3
   },
   "file_extension": ".py",
   "mimetype": "text/x-python",
   "name": "python",
   "nbconvert_exporter": "python",
   "pygments_lexer": "ipython3",
   "version": "3.10.12"
  }
 },
 "nbformat": 4,
 "nbformat_minor": 4
}
